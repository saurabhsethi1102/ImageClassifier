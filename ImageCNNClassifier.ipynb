{
 "cells": [
  {
   "cell_type": "code",
   "execution_count": 2,
   "metadata": {},
   "outputs": [
    {
     "name": "stderr",
     "output_type": "stream",
     "text": [
      "Using TensorFlow backend.\n"
     ]
    }
   ],
   "source": [
    "import os\n",
    "import cv2\n",
    "import tensorflow as tf\n",
    "import keras\n",
    "import numpy as np\n",
    "import pandas as pd\n",
    "from keras.applications import vgg16"
   ]
  },
  {
   "cell_type": "code",
   "execution_count": 3,
   "metadata": {},
   "outputs": [
    {
     "name": "stdout",
     "output_type": "stream",
     "text": [
      "WARNING:tensorflow:From C:\\Users\\User\\AppData\\Roaming\\Python\\Python35\\site-packages\\tensorflow\\python\\framework\\op_def_library.py:263: colocate_with (from tensorflow.python.framework.ops) is deprecated and will be removed in a future version.\n",
      "Instructions for updating:\n",
      "Colocations handled automatically by placer.\n",
      "Reading AppData\\Local\\Programs\\Python\\Python35\\dataset\\34_sleeve\n",
      "Reading AppData\\Local\\Programs\\Python\\Python35\\dataset\\angel_sleeve\n",
      "Reading AppData\\Local\\Programs\\Python\\Python35\\dataset\\bell_sleeve\n",
      "Reading AppData\\Local\\Programs\\Python\\Python35\\dataset\\bishop_sleeve\n",
      "Reading AppData\\Local\\Programs\\Python\\Python35\\dataset\\butterfly_sleeve\n",
      "Reading AppData\\Local\\Programs\\Python\\Python35\\dataset\\cape_sleeve\n",
      "Reading AppData\\Local\\Programs\\Python\\Python35\\dataset\\cap_sleeve\n",
      "Reading AppData\\Local\\Programs\\Python\\Python35\\dataset\\cold-shoulder\n",
      "Reading AppData\\Local\\Programs\\Python\\Python35\\dataset\\kimono_sleeve\n",
      "Reading AppData\\Local\\Programs\\Python\\Python35\\dataset\\long_sleeve\n",
      "Reading AppData\\Local\\Programs\\Python\\Python35\\dataset\\puff_sleeve\n",
      "Reading AppData\\Local\\Programs\\Python\\Python35\\dataset\\short_sleeve\n",
      "Reading AppData\\Local\\Programs\\Python\\Python35\\dataset\\sleeveless\n",
      "2007\n"
     ]
    }
   ],
   "source": [
    "top_model = vgg16.VGG16(include_top = False,weights = 'imagenet',pooling = 'max', classes = 3)\n",
    "for layer in top_model.layers[:-4]:\n",
    "    layer.trainable = False\n",
    "\n",
    "def load_images_from_folder(folder):\n",
    "    images = []\n",
    "    subfolders = [f.path for f in os.scandir(folder) if f.is_dir() ]\n",
    "    for i in subfolders:\n",
    "        print (\"Reading\", i)\n",
    "        for filename in os.listdir(i):\n",
    "            img = cv2.imread(os.path.join(i,filename))\n",
    "            if img is not None:\n",
    "                images.append(img)\n",
    "    return images\n",
    "Train=load_images_from_folder(\"AppData\\Local\\Programs\\Python\\Python35\\dataset\")\n",
    "print(len(Train))"
   ]
  },
  {
   "cell_type": "code",
   "execution_count": 4,
   "metadata": {},
   "outputs": [
    {
     "name": "stdout",
     "output_type": "stream",
     "text": [
      "Index Value: 327\n",
      "Done Show\n"
     ]
    }
   ],
   "source": [
    "import random\n",
    "j=random.randrange(0, len(Train), 1)\n",
    "print(\"Index Value:\", j)\n",
    "cv2.imshow('Image' ,Train[j])\n",
    "cv2.waitKey(0)\n",
    "cv2.destroyAllWindows()\n",
    "print(\"Done Show\")\n"
   ]
  },
  {
   "cell_type": "code",
   "execution_count": 5,
   "metadata": {},
   "outputs": [
    {
     "name": "stdout",
     "output_type": "stream",
     "text": [
      "['AppData\\\\Local\\\\Programs\\\\Python\\\\Python35\\\\dataset\\\\34_sleeve', 'AppData\\\\Local\\\\Programs\\\\Python\\\\Python35\\\\dataset\\\\angel_sleeve', 'AppData\\\\Local\\\\Programs\\\\Python\\\\Python35\\\\dataset\\\\bell_sleeve', 'AppData\\\\Local\\\\Programs\\\\Python\\\\Python35\\\\dataset\\\\bishop_sleeve', 'AppData\\\\Local\\\\Programs\\\\Python\\\\Python35\\\\dataset\\\\butterfly_sleeve', 'AppData\\\\Local\\\\Programs\\\\Python\\\\Python35\\\\dataset\\\\cape_sleeve', 'AppData\\\\Local\\\\Programs\\\\Python\\\\Python35\\\\dataset\\\\cap_sleeve', 'AppData\\\\Local\\\\Programs\\\\Python\\\\Python35\\\\dataset\\\\cold-shoulder', 'AppData\\\\Local\\\\Programs\\\\Python\\\\Python35\\\\dataset\\\\kimono_sleeve', 'AppData\\\\Local\\\\Programs\\\\Python\\\\Python35\\\\dataset\\\\long_sleeve', 'AppData\\\\Local\\\\Programs\\\\Python\\\\Python35\\\\dataset\\\\puff_sleeve', 'AppData\\\\Local\\\\Programs\\\\Python\\\\Python35\\\\dataset\\\\short_sleeve', 'AppData\\\\Local\\\\Programs\\\\Python\\\\Python35\\\\dataset\\\\sleeveless']\n",
      "154\n",
      "155\n",
      "155\n",
      "155\n",
      "155\n",
      "155\n",
      "155\n",
      "155\n",
      "155\n",
      "155\n",
      "155\n",
      "155\n",
      "148\n",
      "         0\n",
      "0      1.0\n",
      "1      1.0\n",
      "2      1.0\n",
      "3      1.0\n",
      "4      1.0\n",
      "5      1.0\n",
      "6      1.0\n",
      "7      1.0\n",
      "8      1.0\n",
      "9      1.0\n",
      "10     1.0\n",
      "11     1.0\n",
      "12     1.0\n",
      "13     1.0\n",
      "14     1.0\n",
      "15     1.0\n",
      "16     1.0\n",
      "17     1.0\n",
      "18     1.0\n",
      "19     1.0\n",
      "20     1.0\n",
      "21     1.0\n",
      "22     1.0\n",
      "23     1.0\n",
      "24     1.0\n",
      "25     1.0\n",
      "26     1.0\n",
      "27     1.0\n",
      "28     1.0\n",
      "29     1.0\n",
      "...    ...\n",
      "1977  13.0\n",
      "1978  13.0\n",
      "1979  13.0\n",
      "1980  13.0\n",
      "1981  13.0\n",
      "1982  13.0\n",
      "1983  13.0\n",
      "1984  13.0\n",
      "1985  13.0\n",
      "1986  13.0\n",
      "1987  13.0\n",
      "1988  13.0\n",
      "1989  13.0\n",
      "1990  13.0\n",
      "1991  13.0\n",
      "1992  13.0\n",
      "1993  13.0\n",
      "1994  13.0\n",
      "1995  13.0\n",
      "1996  13.0\n",
      "1997  13.0\n",
      "1998  13.0\n",
      "1999  13.0\n",
      "2000  13.0\n",
      "2001  13.0\n",
      "2002  13.0\n",
      "2003  13.0\n",
      "2004  13.0\n",
      "2005  13.0\n",
      "2006  13.0\n",
      "\n",
      "[2007 rows x 1 columns]\n"
     ]
    }
   ],
   "source": [
    "X=[]\n",
    "X=Train\n",
    "subfolders = [f.path for f in os.scandir(\"AppData\\Local\\Programs\\Python\\Python35\\dataset\") if f.is_dir() ]\n",
    "print(subfolders)\n",
    "for i in subfolders:\n",
    "    images=os.listdir(i)\n",
    "    print(len(images))\n",
    "Y = np.zeros((len(Train),1))\n",
    "Y[0:154]=1\n",
    "Y[155:308]=2\n",
    "Y[309:463]=3\n",
    "Y[464:618]=4\n",
    "Y[619:773]=5\n",
    "Y[774:928]=6\n",
    "Y[929:1083]=7\n",
    "Y[1084:1238]=8\n",
    "Y[1239:1393]=9\n",
    "Y[1394:1548]=10\n",
    "Y[1549:1703]=11\n",
    "Y[1704:1858]=12\n",
    "Y[1859:len(Train)]=13\n",
    "Y=pd.get_dummies(pd.DataFrame(Y))\n",
    "print(Y)"
   ]
  },
  {
   "cell_type": "code",
   "execution_count": 6,
   "metadata": {},
   "outputs": [
    {
     "data": {
      "text/plain": [
       "<Figure size 640x480 with 1 Axes>"
      ]
     },
     "metadata": {},
     "output_type": "display_data"
    }
   ],
   "source": [
    "from sklearn.model_selection import train_test_split\n",
    "X_train,  X_test,Y_train,Y_test= train_test_split(X,  Y,test_size=0.2)\n",
    "\n",
    "import matplotlib.pyplot as plt\n",
    "plt.imshow(cv2.cvtColor(Train[j], cv2.COLOR_BGR2RGB))\n",
    "plt.show()\n",
    "\n",
    "Train = np.array(Train, dtype = object)/255"
   ]
  },
  {
   "cell_type": "code",
   "execution_count": 7,
   "metadata": {},
   "outputs": [
    {
     "name": "stdout",
     "output_type": "stream",
     "text": [
      "WARNING:tensorflow:From c:\\users\\user\\appdata\\local\\programs\\python\\python35\\lib\\site-packages\\keras\\backend\\tensorflow_backend.py:3445: calling dropout (from tensorflow.python.ops.nn_ops) with keep_prob is deprecated and will be removed in a future version.\n",
      "Instructions for updating:\n",
      "Please use `rate` instead of `keep_prob`. Rate should be set to `rate = 1 - keep_prob`.\n",
      "_________________________________________________________________\n",
      "Layer (type)                 Output Shape              Param #   \n",
      "=================================================================\n",
      "block1_conv1 (Conv2D)        (None, None, None, 64)    1792      \n",
      "_________________________________________________________________\n",
      "block1_conv2 (Conv2D)        (None, None, None, 64)    36928     \n",
      "_________________________________________________________________\n",
      "block1_pool (MaxPooling2D)   (None, None, None, 64)    0         \n",
      "_________________________________________________________________\n",
      "block2_conv1 (Conv2D)        (None, None, None, 128)   73856     \n",
      "_________________________________________________________________\n",
      "block2_conv2 (Conv2D)        (None, None, None, 128)   147584    \n",
      "_________________________________________________________________\n",
      "block2_pool (MaxPooling2D)   (None, None, None, 128)   0         \n",
      "_________________________________________________________________\n",
      "block3_conv1 (Conv2D)        (None, None, None, 256)   295168    \n",
      "_________________________________________________________________\n",
      "block3_conv2 (Conv2D)        (None, None, None, 256)   590080    \n",
      "_________________________________________________________________\n",
      "block3_conv3 (Conv2D)        (None, None, None, 256)   590080    \n",
      "_________________________________________________________________\n",
      "block3_pool (MaxPooling2D)   (None, None, None, 256)   0         \n",
      "_________________________________________________________________\n",
      "block4_conv1 (Conv2D)        (None, None, None, 512)   1180160   \n",
      "_________________________________________________________________\n",
      "block4_conv2 (Conv2D)        (None, None, None, 512)   2359808   \n",
      "_________________________________________________________________\n",
      "block4_conv3 (Conv2D)        (None, None, None, 512)   2359808   \n",
      "_________________________________________________________________\n",
      "block4_pool (MaxPooling2D)   (None, None, None, 512)   0         \n",
      "_________________________________________________________________\n",
      "block5_conv1 (Conv2D)        (None, None, None, 512)   2359808   \n",
      "_________________________________________________________________\n",
      "block5_conv2 (Conv2D)        (None, None, None, 512)   2359808   \n",
      "_________________________________________________________________\n",
      "block5_conv3 (Conv2D)        (None, None, None, 512)   2359808   \n",
      "_________________________________________________________________\n",
      "block5_pool (MaxPooling2D)   (None, None, None, 512)   0         \n",
      "_________________________________________________________________\n",
      "global_max_pooling2d_1 (Glob (None, 512)               0         \n",
      "_________________________________________________________________\n",
      "dense_1 (Dense)              (None, 1024)              525312    \n",
      "_________________________________________________________________\n",
      "dropout_1 (Dropout)          (None, 1024)              0         \n",
      "_________________________________________________________________\n",
      "dense_2 (Dense)              (None, 1024)              1049600   \n",
      "_________________________________________________________________\n",
      "dropout_2 (Dropout)          (None, 1024)              0         \n",
      "_________________________________________________________________\n",
      "dense_3 (Dense)              (None, 3)                 3075      \n",
      "=================================================================\n",
      "Total params: 16,292,675\n",
      "Trainable params: 6,297,603\n",
      "Non-trainable params: 9,995,072\n",
      "_________________________________________________________________\n",
      "Model Evaluate\n"
     ]
    },
    {
     "ename": "ValueError",
     "evalue": "Error when checking model input: the list of Numpy arrays that you are passing to your model is not the size the model expected. Expected to see 1 array(s), but instead got the following list of 1605 arrays: [array([[[ 95, 104, 108],\n        [111, 120, 124],\n        [108, 117, 121],\n        ...,\n        [ 92, 101, 105],\n        [ 91, 100, 104],\n        [ 90,  99, 103]],\n\n       [[105, 114, 118],\n        [...",
     "output_type": "error",
     "traceback": [
      "\u001b[1;31m---------------------------------------------------------------------------\u001b[0m",
      "\u001b[1;31mValueError\u001b[0m                                Traceback (most recent call last)",
      "\u001b[1;32m<ipython-input-7-e7f3e07bf330>\u001b[0m in \u001b[0;36m<module>\u001b[1;34m\u001b[0m\n\u001b[0;32m     15\u001b[0m \u001b[0mmodel\u001b[0m\u001b[1;33m.\u001b[0m\u001b[0msummary\u001b[0m\u001b[1;33m(\u001b[0m\u001b[1;33m)\u001b[0m\u001b[1;33m\u001b[0m\u001b[0m\n\u001b[0;32m     16\u001b[0m \u001b[0mprint\u001b[0m\u001b[1;33m(\u001b[0m\u001b[1;34m\"Model Evaluate\"\u001b[0m\u001b[1;33m)\u001b[0m\u001b[1;33m\u001b[0m\u001b[0m\n\u001b[1;32m---> 17\u001b[1;33m \u001b[0mmodel\u001b[0m\u001b[1;33m.\u001b[0m\u001b[0mevaluate\u001b[0m\u001b[1;33m(\u001b[0m\u001b[0mX_train\u001b[0m\u001b[1;33m,\u001b[0m \u001b[0mY_train\u001b[0m\u001b[1;33m)\u001b[0m\u001b[1;33m\u001b[0m\u001b[0m\n\u001b[0m",
      "\u001b[1;32mc:\\users\\user\\appdata\\local\\programs\\python\\python35\\lib\\site-packages\\keras\\engine\\training.py\u001b[0m in \u001b[0;36mevaluate\u001b[1;34m(self, x, y, batch_size, verbose, sample_weight, steps)\u001b[0m\n\u001b[0;32m   1100\u001b[0m             \u001b[0mx\u001b[0m\u001b[1;33m,\u001b[0m \u001b[0my\u001b[0m\u001b[1;33m,\u001b[0m\u001b[1;33m\u001b[0m\u001b[0m\n\u001b[0;32m   1101\u001b[0m             \u001b[0msample_weight\u001b[0m\u001b[1;33m=\u001b[0m\u001b[0msample_weight\u001b[0m\u001b[1;33m,\u001b[0m\u001b[1;33m\u001b[0m\u001b[0m\n\u001b[1;32m-> 1102\u001b[1;33m             batch_size=batch_size)\n\u001b[0m\u001b[0;32m   1103\u001b[0m         \u001b[1;31m# Prepare inputs, delegate logic to `test_loop`.\u001b[0m\u001b[1;33m\u001b[0m\u001b[1;33m\u001b[0m\u001b[0m\n\u001b[0;32m   1104\u001b[0m         \u001b[1;32mif\u001b[0m \u001b[0mself\u001b[0m\u001b[1;33m.\u001b[0m\u001b[0m_uses_dynamic_learning_phase\u001b[0m\u001b[1;33m(\u001b[0m\u001b[1;33m)\u001b[0m\u001b[1;33m:\u001b[0m\u001b[1;33m\u001b[0m\u001b[0m\n",
      "\u001b[1;32mc:\\users\\user\\appdata\\local\\programs\\python\\python35\\lib\\site-packages\\keras\\engine\\training.py\u001b[0m in \u001b[0;36m_standardize_user_data\u001b[1;34m(self, x, y, sample_weight, class_weight, check_array_lengths, batch_size)\u001b[0m\n\u001b[0;32m    749\u001b[0m             \u001b[0mfeed_input_shapes\u001b[0m\u001b[1;33m,\u001b[0m\u001b[1;33m\u001b[0m\u001b[0m\n\u001b[0;32m    750\u001b[0m             \u001b[0mcheck_batch_axis\u001b[0m\u001b[1;33m=\u001b[0m\u001b[1;32mFalse\u001b[0m\u001b[1;33m,\u001b[0m  \u001b[1;31m# Don't enforce the batch size.\u001b[0m\u001b[1;33m\u001b[0m\u001b[0m\n\u001b[1;32m--> 751\u001b[1;33m             exception_prefix='input')\n\u001b[0m\u001b[0;32m    752\u001b[0m \u001b[1;33m\u001b[0m\u001b[0m\n\u001b[0;32m    753\u001b[0m         \u001b[1;32mif\u001b[0m \u001b[0my\u001b[0m \u001b[1;32mis\u001b[0m \u001b[1;32mnot\u001b[0m \u001b[1;32mNone\u001b[0m\u001b[1;33m:\u001b[0m\u001b[1;33m\u001b[0m\u001b[0m\n",
      "\u001b[1;32mc:\\users\\user\\appdata\\local\\programs\\python\\python35\\lib\\site-packages\\keras\\engine\\training_utils.py\u001b[0m in \u001b[0;36mstandardize_input_data\u001b[1;34m(data, names, shapes, check_batch_axis, exception_prefix)\u001b[0m\n\u001b[0;32m    100\u001b[0m                 \u001b[1;34m'Expected to see '\u001b[0m \u001b[1;33m+\u001b[0m \u001b[0mstr\u001b[0m\u001b[1;33m(\u001b[0m\u001b[0mlen\u001b[0m\u001b[1;33m(\u001b[0m\u001b[0mnames\u001b[0m\u001b[1;33m)\u001b[0m\u001b[1;33m)\u001b[0m \u001b[1;33m+\u001b[0m \u001b[1;34m' array(s), '\u001b[0m\u001b[1;33m\u001b[0m\u001b[0m\n\u001b[0;32m    101\u001b[0m                 \u001b[1;34m'but instead got the following list of '\u001b[0m \u001b[1;33m+\u001b[0m\u001b[1;33m\u001b[0m\u001b[0m\n\u001b[1;32m--> 102\u001b[1;33m                 str(len(data)) + ' arrays: ' + str(data)[:200] + '...')\n\u001b[0m\u001b[0;32m    103\u001b[0m         \u001b[1;32melif\u001b[0m \u001b[0mlen\u001b[0m\u001b[1;33m(\u001b[0m\u001b[0mnames\u001b[0m\u001b[1;33m)\u001b[0m \u001b[1;33m>\u001b[0m \u001b[1;36m1\u001b[0m\u001b[1;33m:\u001b[0m\u001b[1;33m\u001b[0m\u001b[0m\n\u001b[0;32m    104\u001b[0m             raise ValueError(\n",
      "\u001b[1;31mValueError\u001b[0m: Error when checking model input: the list of Numpy arrays that you are passing to your model is not the size the model expected. Expected to see 1 array(s), but instead got the following list of 1605 arrays: [array([[[ 95, 104, 108],\n        [111, 120, 124],\n        [108, 117, 121],\n        ...,\n        [ 92, 101, 105],\n        [ 91, 100, 104],\n        [ 90,  99, 103]],\n\n       [[105, 114, 118],\n        [..."
     ]
    }
   ],
   "source": [
    "from keras.models import Sequential\n",
    "from keras.layers import Dense, Flatten, Dropout\n",
    "from keras_preprocessing.image import ImageDataGenerator\n",
    "\n",
    "model = Sequential()\n",
    "for l in top_model.layers : \n",
    "    model.add(l)\n",
    "#model.add(Flatten())\n",
    "model.add(Dense(1024,activation = 'relu'))\n",
    "model.add(Dropout(0.2))\n",
    "model.add(Dense(1024,activation = 'relu'))\n",
    "model.add(Dropout(0.2))\n",
    "model.add(Dense(3,activation = tf.nn.softmax))\n",
    "model.compile(optimizer = 'adam',metrics = [\"accuracy\"],loss = \"categorical_crossentropy\")\n",
    "model.summary()\n",
    "print(\"Model Evaluate\")\n",
    "model.evaluate(X_train, Y_train)\n"
   ]
  },
  {
   "cell_type": "code",
   "execution_count": null,
   "metadata": {},
   "outputs": [],
   "source": []
  },
  {
   "cell_type": "code",
   "execution_count": null,
   "metadata": {},
   "outputs": [],
   "source": []
  }
 ],
 "metadata": {
  "kernelspec": {
   "display_name": "Python 3",
   "language": "python",
   "name": "python3"
  },
  "language_info": {
   "codemirror_mode": {
    "name": "ipython",
    "version": 3
   },
   "file_extension": ".py",
   "mimetype": "text/x-python",
   "name": "python",
   "nbconvert_exporter": "python",
   "pygments_lexer": "ipython3",
   "version": "3.5.4"
  }
 },
 "nbformat": 4,
 "nbformat_minor": 2
}

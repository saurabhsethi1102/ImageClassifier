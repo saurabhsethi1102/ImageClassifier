{
 "cells": [
  {
   "cell_type": "code",
   "execution_count": 46,
   "metadata": {},
   "outputs": [],
   "source": [
    "import os\n",
    "import cv2\n",
    "import tensorflow as tf\n",
    "import keras\n",
    "import numpy as np\n",
    "import pandas as pd\n",
    "from keras.applications import vgg16"
   ]
  },
  {
   "cell_type": "code",
   "execution_count": 47,
   "metadata": {},
   "outputs": [
    {
     "name": "stdout",
     "output_type": "stream",
     "text": [
      "Reading AppData\\Local\\Programs\\Python\\Python35\\dataset\\34_sleeve\n",
      "Reading AppData\\Local\\Programs\\Python\\Python35\\dataset\\angel_sleeve\n",
      "Reading AppData\\Local\\Programs\\Python\\Python35\\dataset\\bell_sleeve\n",
      "Reading AppData\\Local\\Programs\\Python\\Python35\\dataset\\bishop_sleeve\n",
      "Reading AppData\\Local\\Programs\\Python\\Python35\\dataset\\butterfly_sleeve\n",
      "Reading AppData\\Local\\Programs\\Python\\Python35\\dataset\\cape_sleeve\n",
      "Reading AppData\\Local\\Programs\\Python\\Python35\\dataset\\cap_sleeve\n",
      "Reading AppData\\Local\\Programs\\Python\\Python35\\dataset\\cold-shoulder\n",
      "Reading AppData\\Local\\Programs\\Python\\Python35\\dataset\\kimono_sleeve\n",
      "Reading AppData\\Local\\Programs\\Python\\Python35\\dataset\\long_sleeve\n",
      "Reading AppData\\Local\\Programs\\Python\\Python35\\dataset\\puff_sleeve\n",
      "Reading AppData\\Local\\Programs\\Python\\Python35\\dataset\\short_sleeve\n",
      "Reading AppData\\Local\\Programs\\Python\\Python35\\dataset\\sleeveless\n",
      "2007\n"
     ]
    }
   ],
   "source": [
    "top_model = vgg16.VGG16(include_top = False,weights = 'imagenet',pooling = 'max')\n",
    "for layer in top_model.layers[:-1]:\n",
    "    layer.trainable = False\n",
    "\n",
    "def load_images_from_folder(folder):\n",
    "    images = []\n",
    "    subfolders = [f.path for f in os.scandir(folder) if f.is_dir() ]\n",
    "    for i in subfolders:\n",
    "        print (\"Reading\", i)\n",
    "        for filename in os.listdir(i):\n",
    "            img = cv2.imread(os.path.join(i,filename))\n",
    "            img = cv2.resize(img,(64,64))\n",
    "            if img is not None:\n",
    "                images.append(img)\n",
    "    return images\n",
    "Train=load_images_from_folder(\"AppData\\Local\\Programs\\Python\\Python35\\dataset\")\n",
    "print(len(Train))"
   ]
  },
  {
   "cell_type": "code",
   "execution_count": 48,
   "metadata": {},
   "outputs": [
    {
     "name": "stdout",
     "output_type": "stream",
     "text": [
      "Index Value: 1014\n",
      "Done Show\n"
     ]
    }
   ],
   "source": [
    "import random\n",
    "j=random.randrange(0, len(Train), 1)\n",
    "print(\"Index Value:\", j)\n",
    "cv2.imshow('Image' ,Train[j])\n",
    "cv2.waitKey(0)\n",
    "cv2.destroyAllWindows()\n",
    "print(\"Done Show\")\n"
   ]
  },
  {
   "cell_type": "code",
   "execution_count": 49,
   "metadata": {},
   "outputs": [
    {
     "name": "stdout",
     "output_type": "stream",
     "text": [
      "['AppData\\\\Local\\\\Programs\\\\Python\\\\Python35\\\\dataset\\\\34_sleeve', 'AppData\\\\Local\\\\Programs\\\\Python\\\\Python35\\\\dataset\\\\angel_sleeve', 'AppData\\\\Local\\\\Programs\\\\Python\\\\Python35\\\\dataset\\\\bell_sleeve', 'AppData\\\\Local\\\\Programs\\\\Python\\\\Python35\\\\dataset\\\\bishop_sleeve', 'AppData\\\\Local\\\\Programs\\\\Python\\\\Python35\\\\dataset\\\\butterfly_sleeve', 'AppData\\\\Local\\\\Programs\\\\Python\\\\Python35\\\\dataset\\\\cape_sleeve', 'AppData\\\\Local\\\\Programs\\\\Python\\\\Python35\\\\dataset\\\\cap_sleeve', 'AppData\\\\Local\\\\Programs\\\\Python\\\\Python35\\\\dataset\\\\cold-shoulder', 'AppData\\\\Local\\\\Programs\\\\Python\\\\Python35\\\\dataset\\\\kimono_sleeve', 'AppData\\\\Local\\\\Programs\\\\Python\\\\Python35\\\\dataset\\\\long_sleeve', 'AppData\\\\Local\\\\Programs\\\\Python\\\\Python35\\\\dataset\\\\puff_sleeve', 'AppData\\\\Local\\\\Programs\\\\Python\\\\Python35\\\\dataset\\\\short_sleeve', 'AppData\\\\Local\\\\Programs\\\\Python\\\\Python35\\\\dataset\\\\sleeveless']\n",
      "154\n",
      "155\n",
      "155\n",
      "155\n",
      "155\n",
      "155\n",
      "155\n",
      "155\n",
      "155\n",
      "155\n",
      "155\n",
      "155\n",
      "148\n",
      "[[1 0 0 ... 0 0 0]\n",
      " [1 0 0 ... 0 0 0]\n",
      " [1 0 0 ... 0 0 0]\n",
      " ...\n",
      " [0 0 0 ... 0 0 0]\n",
      " [0 0 0 ... 0 0 0]\n",
      " [0 0 0 ... 0 0 0]]\n"
     ]
    }
   ],
   "source": [
    "X=[]\n",
    "X=Train\n",
    "subfolders = [f.path for f in os.scandir(\"AppData\\Local\\Programs\\Python\\Python35\\dataset\") if f.is_dir() ]\n",
    "print(subfolders)\n",
    "for i in subfolders:\n",
    "    images=os.listdir(i)\n",
    "    print(len(images))\n",
    "Y = []\n",
    "Y.extend(['1' for i in range(154)])\n",
    "#Y[0:154]='1'\n",
    "Y.extend(['2' for i in range(154, 308)])\n",
    "#Y[154:308]='2'\n",
    "Y.extend(['3' for i in range(308, 463)])\n",
    "#Y[308:463]='3'\n",
    "Y.extend(['4' for i in range(463, 618)])\n",
    "#Y[463:618]='4'\n",
    "Y.extend(['5' for i in range(618, 773)])\n",
    "#Y[618:773]='5'\n",
    "Y.extend(['6' for i in range(773, 928)])\n",
    "#Y[773:928]='6'\n",
    "Y.extend(['7' for i in range(928, 1083)])\n",
    "#Y[928:1083]='7'\n",
    "Y.extend(['8' for i in range(1083, 1238)])\n",
    "#Y[1083:1238]='8'\n",
    "Y.extend(['9' for i in range(1238, 1393)])\n",
    "#Y[1238:1393]='9'\n",
    "Y.extend(['10' for i in range(1393, 1548)])\n",
    "#Y[1393:1548]='10'\n",
    "Y.extend(['11' for i in range(1548, 1703)])\n",
    "#Y[1548:1703]='11'\n",
    "Y.extend(['12' for i in range(1703, 1858)])\n",
    "#Y[1703:1858]='12'\n",
    "Y.extend(['13' for i in range(1858, len(Train))])\n",
    "#Y[1858:len(Train)]='13'\n",
    "Y=pd.get_dummies(pd.DataFrame(Y))\n",
    "Y = Y.values\n",
    "print(Y)"
   ]
  },
  {
   "cell_type": "code",
   "execution_count": 50,
   "metadata": {},
   "outputs": [
    {
     "data": {
      "image/png": "[encoded data removed]",
      "text/plain": [
       "<Figure size 432x288 with 1 Axes>"
      ]
     },
     "metadata": {
      "needs_background": "light"
     },
     "output_type": "display_data"
    },
    {
     "name": "stdout",
     "output_type": "stream",
     "text": [
      "(2007, 64, 64, 3)\n",
      "(2007, 13)\n",
      "(1605, 64, 64, 3)\n",
      "(1605, 13)\n"
     ]
    }
   ],
   "source": [
    "import matplotlib.pyplot as plt\n",
    "plt.imshow(cv2.cvtColor(X[j], cv2.COLOR_BGR2RGB))\n",
    "plt.show()\n",
    "\n",
    "X = np.array(X,dtype = np.uint8)/255\n",
    "X=X.reshape(2007,64,64,3)\n",
    "\n",
    "print(X.shape)\n",
    "print(Y.shape)\n",
    "\n",
    "from sklearn.model_selection import train_test_split\n",
    "X_train,X_test,Y_train,Y_test= train_test_split(X,  Y,test_size=0.2)\n",
    "print(X_train.shape)\n",
    "print(Y_train.shape)"
   ]
  },
  {
   "cell_type": "code",
   "execution_count": 51,
   "metadata": {},
   "outputs": [
    {
     "name": "stdout",
     "output_type": "stream",
     "text": [
      "Epoch 1/10\n",
      "1605/1605 [==============================] - 60s 37ms/step - loss: 2.5999 - acc: 0.1009\n",
      "Epoch 2/10\n",
      "1605/1605 [==============================] - 57s 36ms/step - loss: 2.3952 - acc: 0.1682\n",
      "Epoch 3/10\n",
      "1605/1605 [==============================] - 55s 34ms/step - loss: 2.2533 - acc: 0.2498\n",
      "Epoch 4/10\n",
      "1605/1605 [==============================] - 54s 34ms/step - loss: 2.1004 - acc: 0.3065\n",
      "Epoch 5/10\n",
      "1605/1605 [==============================] - 53s 33ms/step - loss: 1.9806 - acc: 0.3483\n",
      "Epoch 6/10\n",
      "1605/1605 [==============================] - 58s 36ms/step - loss: 1.8303 - acc: 0.4093\n",
      "Epoch 7/10\n",
      "1605/1605 [==============================] - 53s 33ms/step - loss: 1.7161 - acc: 0.4274\n",
      "Epoch 8/10\n",
      "1605/1605 [==============================] - 56s 35ms/step - loss: 1.6001 - acc: 0.4810\n",
      "Epoch 9/10\n",
      "1605/1605 [==============================] - 57s 36ms/step - loss: 1.4592 - acc: 0.5277\n",
      "Epoch 10/10\n",
      "1605/1605 [==============================] - 58s 36ms/step - loss: 1.3388 - acc: 0.5626\n",
      "_________________________________________________________________\n",
      "Layer (type)                 Output Shape              Param #   \n",
      "=================================================================\n",
      "block1_conv1 (Conv2D)        (None, None, None, 64)    1792      \n",
      "_________________________________________________________________\n",
      "block1_conv2 (Conv2D)        (None, None, None, 64)    36928     \n",
      "_________________________________________________________________\n",
      "block1_pool (MaxPooling2D)   (None, None, None, 64)    0         \n",
      "_________________________________________________________________\n",
      "block2_conv1 (Conv2D)        (None, None, None, 128)   73856     \n",
      "_________________________________________________________________\n",
      "block2_conv2 (Conv2D)        (None, None, None, 128)   147584    \n",
      "_________________________________________________________________\n",
      "block2_pool (MaxPooling2D)   (None, None, None, 128)   0         \n",
      "_________________________________________________________________\n",
      "block3_conv1 (Conv2D)        (None, None, None, 256)   295168    \n",
      "_________________________________________________________________\n",
      "block3_conv2 (Conv2D)        (None, None, None, 256)   590080    \n",
      "_________________________________________________________________\n",
      "block3_conv3 (Conv2D)        (None, None, None, 256)   590080    \n",
      "_________________________________________________________________\n",
      "block3_pool (MaxPooling2D)   (None, None, None, 256)   0         \n",
      "_________________________________________________________________\n",
      "block4_conv1 (Conv2D)        (None, None, None, 512)   1180160   \n",
      "_________________________________________________________________\n",
      "block4_conv2 (Conv2D)        (None, None, None, 512)   2359808   \n",
      "_________________________________________________________________\n",
      "block4_conv3 (Conv2D)        (None, None, None, 512)   2359808   \n",
      "_________________________________________________________________\n",
      "block4_pool (MaxPooling2D)   (None, None, None, 512)   0         \n",
      "_________________________________________________________________\n",
      "block5_conv1 (Conv2D)        (None, None, None, 512)   2359808   \n",
      "_________________________________________________________________\n",
      "block5_conv2 (Conv2D)        (None, None, None, 512)   2359808   \n",
      "_________________________________________________________________\n",
      "block5_conv3 (Conv2D)        (None, None, None, 512)   2359808   \n",
      "_________________________________________________________________\n",
      "block5_pool (MaxPooling2D)   (None, None, None, 512)   0         \n",
      "_________________________________________________________________\n",
      "global_max_pooling2d_6 (Glob (None, 512)               0         \n",
      "_________________________________________________________________\n",
      "dense_7 (Dense)              (None, 256)               131328    \n",
      "_________________________________________________________________\n",
      "dropout_5 (Dropout)          (None, 256)               0         \n",
      "_________________________________________________________________\n",
      "dense_8 (Dense)              (None, 256)               65792     \n",
      "_________________________________________________________________\n",
      "dropout_6 (Dropout)          (None, 256)               0         \n",
      "_________________________________________________________________\n",
      "dense_9 (Dense)              (None, 13)                3341      \n",
      "=================================================================\n",
      "Total params: 14,915,149\n",
      "Trainable params: 200,461\n",
      "Non-trainable params: 14,714,688\n",
      "_________________________________________________________________\n",
      "Model Evaluate\n",
      "1605/1605 [==============================] - 57s 35ms/step\n",
      "Training set error [1.0246881600109587, 0.6965732087598783]\n",
      "402/402 [==============================] - 15s 37ms/step\n",
      "Test set error [2.2075749973752608, 0.31592039830649077]\n"
     ]
    }
   ],
   "source": [
    "from keras.models import Sequential\n",
    "from keras.layers import Dense, Flatten, Dropout\n",
    "from keras_preprocessing.image import ImageDataGenerator\n",
    "\n",
    "model = Sequential()\n",
    "for l in top_model.layers : \n",
    "    model.add(l)\n",
    "\n",
    "model.add(Dense(256,activation = 'relu'))\n",
    "model.add(Dropout(0.2))\n",
    "model.add(Dense(256,activation = 'relu'))\n",
    "model.add(Dropout(0.2))\n",
    "model.add(Dense(13,activation = tf.nn.softmax))\n",
    "model.compile(optimizer = 'adam',metrics = [\"accuracy\"],loss = \"categorical_crossentropy\")\n",
    "model.fit(X_train, Y_train, epochs=10)\n",
    "model.summary()\n",
    "print(\"Model Evaluate\")\n",
    "print(\"Training set error\",model.evaluate(X_train, Y_train))\n",
    "print(\"Test set error\",model.evaluate(X_test, Y_test))"
   ]
  },
  {
   "cell_type": "code",
   "execution_count": null,
   "metadata": {},
   "outputs": [],
   "source": []
  },
  {
   "cell_type": "code",
   "execution_count": null,
   "metadata": {},
   "outputs": [],
   "source": []
  }
 ],
 "metadata": {
  "kernelspec": {
   "display_name": "Python 3",
   "language": "python",
   "name": "python3"
  },
  "language_info": {
   "codemirror_mode": {
    "name": "ipython",
    "version": 3
   },
   "file_extension": ".py",
   "mimetype": "text/x-python",
   "name": "python",
   "nbconvert_exporter": "python",
   "pygments_lexer": "ipython3",
   "version": "3.5.4"
  }
 },
 "nbformat": 4,
 "nbformat_minor": 2
}
